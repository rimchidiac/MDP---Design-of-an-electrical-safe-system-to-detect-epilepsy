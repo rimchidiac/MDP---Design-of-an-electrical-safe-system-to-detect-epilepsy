{
 "cells": [
  {
   "cell_type": "code",
   "execution_count": null,
   "id": "forbidden-commonwealth",
   "metadata": {},
   "outputs": [],
   "source": [
    "import scipy.io as sio\n",
    "import numpy as np\n",
    "from sklearn.model_selection import train_test_split\n",
    "from sklearn.neighbors import KNeighborsClassifier\n",
    "from sklearn.model_selection import cross_val_score\n",
    "from sklearn import svm\n",
    "from sklearn.svm import SVC\n",
    "from sklearn.metrics import accuracy_score\n",
    "from sklearn.pipeline import Pipeline\n",
    "from sklearn.preprocessing import StandardScaler\n",
    "from sklearn.tree import DecisionTreeClassifier\n",
    "from sklearn.model_selection import cross_val_score\n",
    "from sklearn.model_selection import GridSearchCV\n",
    "from sklearn.metrics import precision_score\n",
    "from sklearn.metrics import recall_score\n",
    "from sklearn.metrics import f1_score\n",
    "d=sio.loadmat(\"MDP\")\n",
    "data=d['NewData']\n",
    "X=data[:,:4]\n",
    "y=data[:,4]\n",
    "\n",
    "X_train, X_test, y_train, y_test= train_test_split(X,y)\n",
    "\n",
    "\n",
    "pipe=Pipeline([('scaler',StandardScaler()),('classifier',SVC())])\n",
    "param_grid=[{'classifier__kernel':['linear']},\n",
    "           {'classifier__kernel':['poly'],'classifier__gamma':['auto','scale'],'classifier__degree':range(1,10)},\n",
    "           {'classifier__kernel':['rbf'],'classifier__gamma':['auto','scale']},\n",
    "           {'classifier__kernel':['sigmoid']},\n",
    "           {'classifier__kernel':['precomputed']}]\n",
    "A=GridSearchCV(pipe,param_grid,n_jobs=-1)\n",
    "A.fit(X_train,y_train)\n",
    "A.score(X_test,y_test)\n",
    "pred=A.predict(X_test)\n",
    "print(A.best_params_)\n",
    "print(accuracy_score(y_test,pred))\n",
    "print(precision_score(y_test,pred))\n",
    "print(recall_score(y_test,pred))\n",
    "print(f1_score(y_test,pred))"
   ]
  },
  {
   "cell_type": "code",
   "execution_count": null,
   "id": "cubic-highway",
   "metadata": {},
   "outputs": [],
   "source": []
  }
 ],
 "metadata": {
  "kernelspec": {
   "display_name": "Python 3",
   "language": "python",
   "name": "python3"
  },
  "language_info": {
   "codemirror_mode": {
    "name": "ipython",
    "version": 3
   },
   "file_extension": ".py",
   "mimetype": "text/x-python",
   "name": "python",
   "nbconvert_exporter": "python",
   "pygments_lexer": "ipython3",
   "version": "3.8.8"
  }
 },
 "nbformat": 4,
 "nbformat_minor": 5
}
